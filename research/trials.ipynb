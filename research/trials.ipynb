{
 "cells": [
  {
   "cell_type": "markdown",
   "id": "52b44c10",
   "metadata": {},
   "source": [
    "## End-to-End Medical Chatbot using RAG and LLMs"
   ]
  },
  {
   "cell_type": "code",
   "execution_count": 1,
   "id": "6fbc4d58",
   "metadata": {},
   "outputs": [
    {
     "data": {
      "text/plain": [
       "'f:\\\\GenAi_Project\\\\End-to-End_Medical_chatbot\\\\research'"
      ]
     },
     "execution_count": 1,
     "metadata": {},
     "output_type": "execute_result"
    }
   ],
   "source": [
    "#Checking current working directory\n",
    "import os\n",
    "%pwd"
   ]
  },
  {
   "cell_type": "code",
   "execution_count": 2,
   "id": "8379a602",
   "metadata": {},
   "outputs": [
    {
     "data": {
      "text/plain": [
       "'F:\\\\GenAi_Project\\\\End-to-End_Medical_chatbot'"
      ]
     },
     "execution_count": 2,
     "metadata": {},
     "output_type": "execute_result"
    }
   ],
   "source": [
    "##Change the current working directory to the project root\n",
    "os.chdir('F:/GenAi_Project/End-to-End_Medical_chatbot')\n",
    "#Checking the current working directory again\n",
    "%pwd"
   ]
  },
  {
   "cell_type": "code",
   "execution_count": 21,
   "id": "e651f743",
   "metadata": {},
   "outputs": [],
   "source": [
    "#importing the necessary libraries\n",
    "from langchain.document_loaders import PyPDFLoader , DirectoryLoader\n",
    "from langchain.text_splitter import RecursiveCharacterTextSplitter\n",
    "from langchain.embeddings import HuggingFaceEmbeddings\n",
    "from langchain_groq import ChatGroq"
   ]
  },
  {
   "cell_type": "code",
   "execution_count": 4,
   "id": "c1229b8d",
   "metadata": {},
   "outputs": [],
   "source": [
    "#Extract the text from the PDF file\n",
    "\n",
    "def load_pdf(file_path):\n",
    "    \"\"\"\n",
    "    Load a PDF file and extract its text content.\n",
    "    \n",
    "    Args:\n",
    "        file_path (str): The path to the PDF file.\n",
    "        \n",
    "    Returns:\n",
    "        str: The extracted text from the PDF.\n",
    "    \"\"\"\n",
    "    loader = DirectoryLoader(\n",
    "        file_path,\n",
    "        glob=\"**/*.pdf\",\n",
    "        loader_cls=PyPDFLoader\n",
    "    )\n",
    "    documents = loader.load()\n",
    "    return documents"
   ]
  },
  {
   "cell_type": "code",
   "execution_count": 5,
   "id": "4fba3e8d",
   "metadata": {},
   "outputs": [],
   "source": [
    "#Extracted data from the PDF files \n",
    "extracted_data=load_pdf(file_path='Data/')"
   ]
  },
  {
   "cell_type": "code",
   "execution_count": 6,
   "id": "08881f93",
   "metadata": {},
   "outputs": [
    {
     "data": {
      "text/plain": [
       "637"
      ]
     },
     "execution_count": 6,
     "metadata": {},
     "output_type": "execute_result"
    }
   ],
   "source": [
    "# Number of documents loaded\n",
    "len(extracted_data)  "
   ]
  },
  {
   "cell_type": "code",
   "execution_count": 7,
   "id": "3705fd05",
   "metadata": {},
   "outputs": [],
   "source": [
    "#Split the text into smaller chunks\n",
    "def text_split(extracted_data):\n",
    "    \"\"\"\n",
    "    Split the extracted text into smaller chunks.\n",
    "    \n",
    "    Args:\n",
    "        extracted_data (list): List of documents with text content.\n",
    "        \n",
    "    Returns:\n",
    "        list: List of text chunks.\n",
    "    \"\"\"\n",
    "    text_splitter = RecursiveCharacterTextSplitter(\n",
    "        chunk_size=1000,\n",
    "        chunk_overlap=200\n",
    "    )\n",
    "    texts = text_splitter.split_documents(extracted_data)\n",
    "    return texts"
   ]
  },
  {
   "cell_type": "code",
   "execution_count": 8,
   "id": "db9412b7",
   "metadata": {},
   "outputs": [
    {
     "data": {
      "text/plain": [
       "3426"
      ]
     },
     "execution_count": 8,
     "metadata": {},
     "output_type": "execute_result"
    }
   ],
   "source": [
    "text_chunks = text_split(extracted_data)\n",
    "# Number of text chunks created\n",
    "len(text_chunks)"
   ]
  },
  {
   "cell_type": "code",
   "execution_count": 9,
   "id": "95b1066f",
   "metadata": {},
   "outputs": [],
   "source": [
    "#Downlaod the Embeddings from HuggingFace\n",
    "\n",
    "def download_hugging_face_embeddings():\n",
    "    embeddings = HuggingFaceEmbeddings(model_name='all-MiniLM-L6-v2')\n",
    "    return embeddings "
   ]
  },
  {
   "cell_type": "code",
   "execution_count": 11,
   "id": "879a007b",
   "metadata": {},
   "outputs": [],
   "source": [
    "embeddings = download_hugging_face_embeddings()"
   ]
  },
  {
   "cell_type": "code",
   "execution_count": 12,
   "id": "956a9cec",
   "metadata": {},
   "outputs": [],
   "source": [
    "# Load environment variables from .env file\n",
    "from dotenv import load_dotenv\n",
    "import os\n",
    "load_dotenv()\n",
    "PINECONE_API_KEY = os.environ.get(\"PINECONE_API_KEY\")\n",
    "GROQ_API_KEY = os.environ.get(\"GROQ_API_KEY\")"
   ]
  },
  {
   "cell_type": "code",
   "execution_count": 13,
   "id": "fd9a5154",
   "metadata": {},
   "outputs": [
    {
     "data": {
      "text/plain": [
       "{\n",
       "    \"name\": \"medical-chatbot-index\",\n",
       "    \"metric\": \"cosine\",\n",
       "    \"host\": \"medical-chatbot-index-zqyq6px.svc.aped-4627-b74a.pinecone.io\",\n",
       "    \"spec\": {\n",
       "        \"serverless\": {\n",
       "            \"cloud\": \"aws\",\n",
       "            \"region\": \"us-east-1\"\n",
       "        }\n",
       "    },\n",
       "    \"status\": {\n",
       "        \"ready\": true,\n",
       "        \"state\": \"Ready\"\n",
       "    },\n",
       "    \"vector_type\": \"dense\",\n",
       "    \"dimension\": 384,\n",
       "    \"deletion_protection\": \"disabled\",\n",
       "    \"tags\": null\n",
       "}"
      ]
     },
     "execution_count": 13,
     "metadata": {},
     "output_type": "execute_result"
    }
   ],
   "source": [
    "#Initialize Pin  econe\n",
    "#Create a Pinecone index for storing the embeddings\n",
    "from pinecone import Pinecone, ServerlessSpec\n",
    "from pinecone.grpc import PineconeGRPC as grpc\n",
    "\n",
    "pc= Pinecone(api_key=PINECONE_API_KEY)\n",
    "\n",
    "index_name  = \"medical-chatbot-index\"\n",
    "\n",
    "pc.create_index(\n",
    "        name=index_name,\n",
    "        dimension = 384,\n",
    "        metric = \"cosine\",\n",
    "        spec=ServerlessSpec(\n",
    "            cloud=\"aws\",\n",
    "            region=\"us-east-1\"\n",
    "\n",
    "    ))\n"
   ]
  },
  {
   "cell_type": "code",
   "execution_count": 14,
   "id": "987b11e7",
   "metadata": {},
   "outputs": [],
   "source": [
    "# Embed each text chunk and store it in the Pinecone index\n",
    "from langchain_pinecone import PineconeVectorStore\n",
    "\n",
    "docsearach = PineconeVectorStore.from_documents(\n",
    "    documents=text_chunks,\n",
    "    index_name=index_name,\n",
    "    embedding=embeddings,\n",
    ")"
   ]
  },
  {
   "cell_type": "code",
   "execution_count": 15,
   "id": "0f21c8f8",
   "metadata": {},
   "outputs": [],
   "source": [
    "#Load existing index\n",
    "from langchain_pinecone import PineconeVectorStore\n",
    "docsearach = PineconeVectorStore.from_existing_index(\n",
    "    index_name=index_name,\n",
    "    embedding=embeddings\n",
    ")"
   ]
  },
  {
   "cell_type": "code",
   "execution_count": 16,
   "id": "778729ad",
   "metadata": {},
   "outputs": [
    {
     "data": {
      "text/plain": [
       "<langchain_pinecone.vectorstores.PineconeVectorStore at 0x2a03048a740>"
      ]
     },
     "execution_count": 16,
     "metadata": {},
     "output_type": "execute_result"
    }
   ],
   "source": [
    "docsearach"
   ]
  },
  {
   "cell_type": "code",
   "execution_count": 17,
   "id": "a38495b5",
   "metadata": {},
   "outputs": [],
   "source": [
    "#Converting the Pinecone index to a retriever\n",
    "#This allows us to perform similarity searches on the indexed documents\n",
    "retriever = docsearach.as_retriever(\n",
    "    search_type=\"similarity\",\n",
    "    search_kwargs={\n",
    "        \"k\": 5,  # Number of similar documents to retrieve\n",
    "    }\n",
    ")"
   ]
  },
  {
   "cell_type": "code",
   "execution_count": 18,
   "id": "e7507514",
   "metadata": {},
   "outputs": [
    {
     "data": {
      "text/plain": [
       "[Document(id='db7ec59b-e4b9-4800-888f-8dae15b7a40e', metadata={'creationdate': '2004-12-18T17:00:02-05:00', 'creator': 'PyPDF', 'moddate': '2004-12-18T16:15:31-06:00', 'page': 275.0, 'page_label': '276', 'producer': 'PDFlib+PDI 5.0.0 (SunOS)', 'source': 'Data\\\\Medical_book.pdf', 'total_pages': 637.0}, page_content='ble for glucose utilization. It is effective in both types of\\ndiabetes, since, even in insulin resistance, some sensitivi-\\nty remains and the condition can be treated with larger\\ndoses of insulin. Most insulins are now produced by\\nrecombinant DNA techniques, and are chemically identi-\\ncal to natural human insulin. Isophane insulin suspen-\\nsion, insulin zinc suspension, and other formulations are\\nintended to extend the duration of action of insulin, and\\npermit glucose control over longer periods of time.\\nSulfonylureas (chlorpropamide [Diabinese], tolaza-\\nmide [Tolinase], glipizide [Glucotrol] and others) act by\\nincreasing insulin release from the beta cells of the pan-\\ncrease. Glimepiride (Amaryl), a member of this class,\\nappears to have a useful secondary action in increasing\\ninsulin sensitivity in peripheral cells.\\nAlpha-glucosidase inhibitors (acarbose [Precose],\\nmiglitol [Glyset]) do not enhance insulin secretion.\\nRather, they inhibit the conversion of disaccharides and'),\n",
       " Document(id='245da9c8-a120-443a-96de-1deeaac15f69', metadata={'creationdate': '2004-12-18T17:00:02-05:00', 'creator': 'PyPDF', 'moddate': '2004-12-18T16:15:31-06:00', 'page': 172.0, 'page_label': '173', 'producer': 'PDFlib+PDI 5.0.0 (SunOS)', 'source': 'Data\\\\Medical_book.pdf', 'total_pages': 637.0}, page_content='diabetes.org>.\\nOTHER\\nAmputation Prevention Global Resource Center Page. Feb.\\n2001. <http://www.diabetesresource.com>.\\nTish Davidson\\nGALE ENCYCLOPEDIA OF MEDICINE 2 159\\nAmputation\\nGEM - 0001 to 0432 - A  10/22/03 1:42 PM  Page 159'),\n",
       " Document(id='b85be0c6-0cc0-4ae6-8e79-6ff4ebab3b66', metadata={'creationdate': '2004-12-18T17:00:02-05:00', 'creator': 'PyPDF', 'moddate': '2004-12-18T16:15:31-06:00', 'page': 275.0, 'page_label': '276', 'producer': 'PDFlib+PDI 5.0.0 (SunOS)', 'source': 'Data\\\\Medical_book.pdf', 'total_pages': 637.0}, page_content='Alpha-glucosidase inhibitors (acarbose [Precose],\\nmiglitol [Glyset]) do not enhance insulin secretion.\\nRather, they inhibit the conversion of disaccharides and\\ncomplex carbohydrates to glucose. This mechanism does\\nnot prevent conversion, but only delays it, reducing the\\npeak blood glucose levels. Alpha-glucosidase inhibitors\\nare useful for either monotherapy or in combination ther-\\napy with sulfonylureas or other hypoglycemic agents.\\nMetformin (Glucophage) is the only available mem-\\nber of the biguanide class. Metformin decreases hepatic\\nglucose production, decreases intestinal absorption of\\nglucose and increases peripheral glucose uptake and uti-\\nlization. Metformin may be used as monotherapy, or in\\ncombination therapy with a sulfonylurea.\\nThere are two members of the meglitinide class:\\nrepaglinide (Prandin) and nateglitinide (Starlix). The\\nmechanism of action of the meglitinides is to stimulate\\ninsulin production. This activity is both dose dependent'),\n",
       " Document(id='aa506a9b-a897-4cf2-bb27-6660b83e4103', metadata={'creationdate': '2004-12-18T17:00:02-05:00', 'creator': 'PyPDF', 'moddate': '2004-12-18T16:15:31-06:00', 'page': 543.0, 'page_label': '544', 'producer': 'PDFlib+PDI 5.0.0 (SunOS)', 'source': 'Data\\\\Medical_book.pdf', 'total_pages': 637.0}, page_content='mittee on the Diagnosis and Classification of Diabetes\\nMellitus.” Diabetes Care 20, no, 7(July 997): 1183-1197.\\nORGANIZATIONS\\nAmerican Diabetes Association. 1701 North Beauregard Street,\\nAlexandria, V A 22311. (800) 342-2383. <http://www.\\ndiabetes.org>.\\nCenters for Disease Control and Prevention. 1600 Clifton Rd.,\\nNE, Atlanta, GA 30333. (800) 311-3435, (404) 639-3311.\\n<http://www.cdc.gov>.\\nNational Diabetes Information Clearinghouse. 1 Information\\nWay, Bethesda, MD 20892-3560. (800) 860-8747. <http://\\nwww.niddk.nih.gov/health/diabetes/ndic.htm>.\\nNational Institute of Diabetes and Digestive and Kidney Dis-\\neases (NIDDK). Building 31, Room 9A04, 31 Center\\nDrive, MSC 2560, Bethesda, MD 208792-2560. (301)\\n496-3583. <http://www.niddk.nih.gov>.\\nNancy J. Nordenson\\nBlood thinners see Anticoagulant and\\nantiplatelet drugs\\nBlood transfusion see Transfusion\\nGALE ENCYCLOPEDIA OF MEDICINE 2530\\nBlood sugar tests\\nGEM -0433 to 0624 - B  10/22/03 6:08 PM  Page 530')]"
      ]
     },
     "execution_count": 18,
     "metadata": {},
     "output_type": "execute_result"
    }
   ],
   "source": [
    "retrived_docs = docsearach.similarity_search(\"What is the treatment for diabetes?\")\n",
    "retrived_docs"
   ]
  },
  {
   "cell_type": "code",
   "execution_count": 22,
   "id": "43ce672f",
   "metadata": {},
   "outputs": [],
   "source": [
    "llm = ChatGroq(groq_api_key=GROQ_API_KEY,model_name='gemma2-9b-it')"
   ]
  },
  {
   "cell_type": "code",
   "execution_count": 23,
   "id": "68d49b20",
   "metadata": {},
   "outputs": [],
   "source": [
    "from langchain.chains import create_retrieval_chain\n",
    "from langchain.chains.combine_documents import create_stuff_documents_chain\n",
    "from langchain_core.prompts import ChatPromptTemplate\n",
    "\n",
    "\n",
    "system_prompt = (\n",
    "    \"You are an assistant for question-answering tasks. \"\n",
    "    \"Use the following pieces of retrieved context to answer \"\n",
    "    \"the question. If you don't know the answer, say that you \"\n",
    "    \"don't know. Use three sentences maximum and keep the \"\n",
    "    \"answer concise.\"\n",
    "    \"\\n\\n\"\n",
    "    \"{context}\"\n",
    ")\n",
    "\n",
    "\n",
    "prompt = ChatPromptTemplate.from_messages(\n",
    "    [\n",
    "        (\"system\", system_prompt),\n",
    "        (\"human\", \"{input}\"),\n",
    "    ]\n",
    ")"
   ]
  },
  {
   "cell_type": "code",
   "execution_count": 24,
   "id": "fea000da",
   "metadata": {},
   "outputs": [],
   "source": [
    "question_answer_chain = create_stuff_documents_chain(llm, prompt)\n",
    "rag_chain = create_retrieval_chain(retriever, question_answer_chain)"
   ]
  },
  {
   "cell_type": "code",
   "execution_count": 25,
   "id": "8b1bebc9",
   "metadata": {},
   "outputs": [
    {
     "name": "stdout",
     "output_type": "stream",
     "text": [
      "Acromegaly is a disorder caused by the abnormal release of growth hormone from the pituitary gland.  This leads to excessive growth of bones and soft tissues, as well as other body disturbances.  Gigantism is a variant of acromegaly that occurs in children before their growth plates close. \n",
      "\n",
      "\n",
      "\n"
     ]
    }
   ],
   "source": [
    "response = rag_chain.invoke({\"input\": \"what is Acromegaly and gigantism?\"})\n",
    "print(response[\"answer\"])"
   ]
  }
 ],
 "metadata": {
  "kernelspec": {
   "display_name": "Python 3",
   "language": "python",
   "name": "python3"
  },
  "language_info": {
   "codemirror_mode": {
    "name": "ipython",
    "version": 3
   },
   "file_extension": ".py",
   "mimetype": "text/x-python",
   "name": "python",
   "nbconvert_exporter": "python",
   "pygments_lexer": "ipython3",
   "version": "3.10.18"
  }
 },
 "nbformat": 4,
 "nbformat_minor": 5
}
